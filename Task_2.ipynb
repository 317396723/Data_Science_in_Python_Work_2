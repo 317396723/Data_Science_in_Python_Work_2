{
 "cells": [
  {
   "cell_type": "markdown",
   "id": "4005475d",
   "metadata": {},
   "source": [
    "# COMP41680 Assignment 2 - Part_2\n",
    "Name: Shuhao Guan  \n",
    "ID: 20211120"
   ]
  },
  {
   "cell_type": "markdown",
   "id": "23fcceca",
   "metadata": {},
   "source": [
    "Preprocess the data, and evaluate the performance of different classifiers in the context of two related text classification tasks:\n",
    "- (i) predicting review sentiment; \n",
    "- (ii) predicting review helpfulness."
   ]
  },
  {
   "cell_type": "markdown",
   "id": "68777565",
   "metadata": {},
   "source": [
    "Import the library."
   ]
  },
  {
   "cell_type": "code",
   "execution_count": 1,
   "id": "56cd045e",
   "metadata": {},
   "outputs": [],
   "source": [
    "from sklearn.feature_extraction import DictVectorizer\n",
    "from sklearn.feature_extraction.text import TfidfVectorizer\n",
    "from sklearn.model_selection import cross_val_score,cross_validate\n",
    "from sklearn import svm,naive_bayes\n",
    "import sklearn\n",
    "from sklearn import metrics\n",
    "from tensorflow.keras.models import Sequential\n",
    "from tensorflow.keras.layers import LSTM,Dense, Dropout, SpatialDropout1D\n",
    "from tensorflow.keras.layers import Embedding\n",
    "from sklearn.model_selection import train_test_split\n",
    "from numpy import *\n",
    "import numpy as np\n",
    "import matplotlib.pyplot as plt"
   ]
  },
  {
   "cell_type": "markdown",
   "id": "f3c3ac1d",
   "metadata": {},
   "source": [
    "Read the csv file"
   ]
  },
  {
   "cell_type": "code",
   "execution_count": 2,
   "id": "bac1edc6",
   "metadata": {},
   "outputs": [],
   "source": [
    "import pandas as pd\n",
    "df = pd.read_csv(\"./merged_data/review.csv\")"
   ]
  },
  {
   "cell_type": "markdown",
   "id": "7ebb4148",
   "metadata": {},
   "source": [
    "Remove the stop word and make all words lowercase."
   ]
  },
  {
   "cell_type": "code",
   "execution_count": 3,
   "id": "83457449",
   "metadata": {},
   "outputs": [],
   "source": [
    "from sklearn.feature_extraction.text import ENGLISH_STOP_WORDS\n",
    "df['word_new']=df.apply(lambda x:\" \".join([word for word in (x[1]+' '+x[2]).split() if word.lower() not in ENGLISH_STOP_WORDS]).lower(), axis=1)"
   ]
  },
  {
   "cell_type": "code",
   "execution_count": 4,
   "id": "1810943b",
   "metadata": {},
   "outputs": [
    {
     "data": {
      "text/html": [
       "<div>\n",
       "<style scoped>\n",
       "    .dataframe tbody tr th:only-of-type {\n",
       "        vertical-align: middle;\n",
       "    }\n",
       "\n",
       "    .dataframe tbody tr th {\n",
       "        vertical-align: top;\n",
       "    }\n",
       "\n",
       "    .dataframe thead th {\n",
       "        text-align: right;\n",
       "    }\n",
       "</style>\n",
       "<table border=\"1\" class=\"dataframe\">\n",
       "  <thead>\n",
       "    <tr style=\"text-align: right;\">\n",
       "      <th></th>\n",
       "      <th>star</th>\n",
       "      <th>title</th>\n",
       "      <th>review</th>\n",
       "      <th>helpful1</th>\n",
       "      <th>helpful2</th>\n",
       "      <th>word_new</th>\n",
       "    </tr>\n",
       "  </thead>\n",
       "  <tbody>\n",
       "    <tr>\n",
       "      <th>0</th>\n",
       "      <td>2</td>\n",
       "      <td>The herbs were great...but the cherry tomatoes...</td>\n",
       "      <td>The herb kit that came with my Aerogarden was ...</td>\n",
       "      <td>15</td>\n",
       "      <td>17</td>\n",
       "      <td>herbs great...but cherry tomatoes...not great ...</td>\n",
       "    </tr>\n",
       "    <tr>\n",
       "      <th>1</th>\n",
       "      <td>5</td>\n",
       "      <td>Even more useful than regular parchment paper</td>\n",
       "      <td>I originally bought this just because it was c...</td>\n",
       "      <td>19</td>\n",
       "      <td>19</td>\n",
       "      <td>useful regular parchment paper originally boug...</td>\n",
       "    </tr>\n",
       "    <tr>\n",
       "      <th>2</th>\n",
       "      <td>2</td>\n",
       "      <td>Shake it before you bake it</td>\n",
       "      <td>If you do it in reverse (bake before shaking),...</td>\n",
       "      <td>2</td>\n",
       "      <td>13</td>\n",
       "      <td>shake bake reverse (bake shaking), you're goin...</td>\n",
       "    </tr>\n",
       "    <tr>\n",
       "      <th>3</th>\n",
       "      <td>2</td>\n",
       "      <td>Not what the picture describes</td>\n",
       "      <td>I bought this steak for my father in law for C...</td>\n",
       "      <td>7</td>\n",
       "      <td>14</td>\n",
       "      <td>picture describes bought steak father law chri...</td>\n",
       "    </tr>\n",
       "    <tr>\n",
       "      <th>4</th>\n",
       "      <td>2</td>\n",
       "      <td>What a ripe off - GIVE ME A BREAK</td>\n",
       "      <td>Sorry but I had these noodles and they are no ...</td>\n",
       "      <td>10</td>\n",
       "      <td>34</td>\n",
       "      <td>ripe - break sorry noodles better 10 - 20 cent...</td>\n",
       "    </tr>\n",
       "  </tbody>\n",
       "</table>\n",
       "</div>"
      ],
      "text/plain": [
       "   star                                              title  \\\n",
       "0     2  The herbs were great...but the cherry tomatoes...   \n",
       "1     5      Even more useful than regular parchment paper   \n",
       "2     2                        Shake it before you bake it   \n",
       "3     2                     Not what the picture describes   \n",
       "4     2                  What a ripe off - GIVE ME A BREAK   \n",
       "\n",
       "                                              review  helpful1  helpful2  \\\n",
       "0  The herb kit that came with my Aerogarden was ...        15        17   \n",
       "1  I originally bought this just because it was c...        19        19   \n",
       "2  If you do it in reverse (bake before shaking),...         2        13   \n",
       "3  I bought this steak for my father in law for C...         7        14   \n",
       "4  Sorry but I had these noodles and they are no ...        10        34   \n",
       "\n",
       "                                            word_new  \n",
       "0  herbs great...but cherry tomatoes...not great ...  \n",
       "1  useful regular parchment paper originally boug...  \n",
       "2  shake bake reverse (bake shaking), you're goin...  \n",
       "3  picture describes bought steak father law chri...  \n",
       "4  ripe - break sorry noodles better 10 - 20 cent...  "
      ]
     },
     "execution_count": 4,
     "metadata": {},
     "output_type": "execute_result"
    }
   ],
   "source": [
    "df.head()"
   ]
  },
  {
   "cell_type": "markdown",
   "id": "5f0e475c",
   "metadata": {},
   "source": [
    "**Word_new** column is a merge of titles and reviews with deactivated words removed"
   ]
  },
  {
   "cell_type": "markdown",
   "id": "51adb5a6",
   "metadata": {},
   "source": [
    "## Task 2. Review Sentiment Classification"
   ]
  },
  {
   "cell_type": "markdown",
   "id": "9003cead",
   "metadata": {},
   "source": [
    "Add the **sentiment** for the reviews to the dataframe."
   ]
  },
  {
   "cell_type": "code",
   "execution_count": 5,
   "id": "2fbe647d",
   "metadata": {},
   "outputs": [],
   "source": [
    "df['sentiment']=df.apply(lambda x: 'positive' if x[0]>=3 else 'negative', axis=1)"
   ]
  },
  {
   "cell_type": "code",
   "execution_count": 6,
   "id": "14b254da",
   "metadata": {},
   "outputs": [
    {
     "data": {
      "text/html": [
       "<div>\n",
       "<style scoped>\n",
       "    .dataframe tbody tr th:only-of-type {\n",
       "        vertical-align: middle;\n",
       "    }\n",
       "\n",
       "    .dataframe tbody tr th {\n",
       "        vertical-align: top;\n",
       "    }\n",
       "\n",
       "    .dataframe thead th {\n",
       "        text-align: right;\n",
       "    }\n",
       "</style>\n",
       "<table border=\"1\" class=\"dataframe\">\n",
       "  <thead>\n",
       "    <tr style=\"text-align: right;\">\n",
       "      <th></th>\n",
       "      <th>star</th>\n",
       "      <th>title</th>\n",
       "      <th>review</th>\n",
       "      <th>helpful1</th>\n",
       "      <th>helpful2</th>\n",
       "      <th>word_new</th>\n",
       "      <th>sentiment</th>\n",
       "    </tr>\n",
       "  </thead>\n",
       "  <tbody>\n",
       "    <tr>\n",
       "      <th>0</th>\n",
       "      <td>2</td>\n",
       "      <td>The herbs were great...but the cherry tomatoes...</td>\n",
       "      <td>The herb kit that came with my Aerogarden was ...</td>\n",
       "      <td>15</td>\n",
       "      <td>17</td>\n",
       "      <td>herbs great...but cherry tomatoes...not great ...</td>\n",
       "      <td>negative</td>\n",
       "    </tr>\n",
       "    <tr>\n",
       "      <th>1</th>\n",
       "      <td>5</td>\n",
       "      <td>Even more useful than regular parchment paper</td>\n",
       "      <td>I originally bought this just because it was c...</td>\n",
       "      <td>19</td>\n",
       "      <td>19</td>\n",
       "      <td>useful regular parchment paper originally boug...</td>\n",
       "      <td>positive</td>\n",
       "    </tr>\n",
       "    <tr>\n",
       "      <th>2</th>\n",
       "      <td>2</td>\n",
       "      <td>Shake it before you bake it</td>\n",
       "      <td>If you do it in reverse (bake before shaking),...</td>\n",
       "      <td>2</td>\n",
       "      <td>13</td>\n",
       "      <td>shake bake reverse (bake shaking), you're goin...</td>\n",
       "      <td>negative</td>\n",
       "    </tr>\n",
       "    <tr>\n",
       "      <th>3</th>\n",
       "      <td>2</td>\n",
       "      <td>Not what the picture describes</td>\n",
       "      <td>I bought this steak for my father in law for C...</td>\n",
       "      <td>7</td>\n",
       "      <td>14</td>\n",
       "      <td>picture describes bought steak father law chri...</td>\n",
       "      <td>negative</td>\n",
       "    </tr>\n",
       "    <tr>\n",
       "      <th>4</th>\n",
       "      <td>2</td>\n",
       "      <td>What a ripe off - GIVE ME A BREAK</td>\n",
       "      <td>Sorry but I had these noodles and they are no ...</td>\n",
       "      <td>10</td>\n",
       "      <td>34</td>\n",
       "      <td>ripe - break sorry noodles better 10 - 20 cent...</td>\n",
       "      <td>negative</td>\n",
       "    </tr>\n",
       "  </tbody>\n",
       "</table>\n",
       "</div>"
      ],
      "text/plain": [
       "   star                                              title  \\\n",
       "0     2  The herbs were great...but the cherry tomatoes...   \n",
       "1     5      Even more useful than regular parchment paper   \n",
       "2     2                        Shake it before you bake it   \n",
       "3     2                     Not what the picture describes   \n",
       "4     2                  What a ripe off - GIVE ME A BREAK   \n",
       "\n",
       "                                              review  helpful1  helpful2  \\\n",
       "0  The herb kit that came with my Aerogarden was ...        15        17   \n",
       "1  I originally bought this just because it was c...        19        19   \n",
       "2  If you do it in reverse (bake before shaking),...         2        13   \n",
       "3  I bought this steak for my father in law for C...         7        14   \n",
       "4  Sorry but I had these noodles and they are no ...        10        34   \n",
       "\n",
       "                                            word_new sentiment  \n",
       "0  herbs great...but cherry tomatoes...not great ...  negative  \n",
       "1  useful regular parchment paper originally boug...  positive  \n",
       "2  shake bake reverse (bake shaking), you're goin...  negative  \n",
       "3  picture describes bought steak father law chri...  negative  \n",
       "4  ripe - break sorry noodles better 10 - 20 cent...  negative  "
      ]
     },
     "execution_count": 6,
     "metadata": {},
     "output_type": "execute_result"
    }
   ],
   "source": [
    "df.head()"
   ]
  },
  {
   "cell_type": "code",
   "execution_count": 7,
   "id": "54acb9c5",
   "metadata": {},
   "outputs": [
    {
     "data": {
      "text/plain": [
       "positive    5915\n",
       "negative    3329\n",
       "Name: sentiment, dtype: int64"
      ]
     },
     "execution_count": 7,
     "metadata": {},
     "output_type": "execute_result"
    }
   ],
   "source": [
    "df[\"sentiment\"].value_counts()"
   ]
  },
  {
   "cell_type": "markdown",
   "id": "2dc742ca",
   "metadata": {},
   "source": [
    "### Classifiers with Tfidf features"
   ]
  },
  {
   "cell_type": "markdown",
   "id": "ba7526e8",
   "metadata": {},
   "source": [
    "Extract TFIDF features for our dataset."
   ]
  },
  {
   "cell_type": "code",
   "execution_count": 8,
   "id": "0f97c356",
   "metadata": {},
   "outputs": [],
   "source": [
    "vectorizer = sklearn.feature_extraction.text.TfidfVectorizer(use_idf=True,ngram_range=(1,2))\n",
    "data=vectorizer.fit_transform(df['word_new'])\n",
    "target=df[\"sentiment\"].values\n",
    "target=pd.DataFrame(target)[0].factorize()[0]"
   ]
  },
  {
   "cell_type": "markdown",
   "id": "5b6ae409",
   "metadata": {},
   "source": [
    "It can be seen that our data set has become a matrix of 9244x379904."
   ]
  },
  {
   "cell_type": "code",
   "execution_count": 9,
   "id": "245f3d46",
   "metadata": {},
   "outputs": [
    {
     "data": {
      "text/plain": [
       "<9244x379904 sparse matrix of type '<class 'numpy.float64'>'\n",
       "\twith 1214029 stored elements in Compressed Sparse Row format>"
      ]
     },
     "execution_count": 9,
     "metadata": {},
     "output_type": "execute_result"
    }
   ],
   "source": [
    "data"
   ]
  },
  {
   "cell_type": "code",
   "execution_count": 10,
   "id": "02a3d6b0",
   "metadata": {},
   "outputs": [],
   "source": [
    "task2_AUC=[]\n",
    "task3_AUC=[]"
   ]
  },
  {
   "cell_type": "markdown",
   "id": "4d46c320",
   "metadata": {},
   "source": [
    "#### Bulid classifiers"
   ]
  },
  {
   "cell_type": "markdown",
   "id": "08512efb",
   "metadata": {},
   "source": [
    "Use **train_test_split** to split the train and test set."
   ]
  },
  {
   "cell_type": "code",
   "execution_count": 11,
   "id": "f772bf8d",
   "metadata": {},
   "outputs": [],
   "source": [
    "train_data,test_data,train_target,test_target=train_test_split(data,target,test_size = 0.2,stratify = target)"
   ]
  },
  {
   "cell_type": "markdown",
   "id": "1911fb9d",
   "metadata": {},
   "source": [
    "I create three separate classifiers, an SVM classifier, a logistic regression classifier, and an NB classifier. Then I look at their performance on the training set and the test set respectively, and plot the ROC curves."
   ]
  },
  {
   "cell_type": "code",
   "execution_count": 12,
   "id": "f1ade2c4",
   "metadata": {},
   "outputs": [
    {
     "name": "stdout",
     "output_type": "stream",
     "text": [
      "---------------------On test set--------------------\n",
      "              precision    recall  f1-score   support\n",
      "\n",
      "    Negative       0.88      0.77      0.82       666\n",
      "    Positive       0.88      0.94      0.91      1183\n",
      "\n",
      "    accuracy                           0.88      1849\n",
      "   macro avg       0.88      0.85      0.86      1849\n",
      "weighted avg       0.88      0.88      0.88      1849\n",
      "\n",
      "[[ 511  155]\n",
      " [  68 1115]]\n",
      "---------------------On train set-------------------\n",
      "              precision    recall  f1-score   support\n",
      "\n",
      "    Negative       1.00      1.00      1.00      2663\n",
      "    Positive       1.00      1.00      1.00      4732\n",
      "\n",
      "    accuracy                           1.00      7395\n",
      "   macro avg       1.00      1.00      1.00      7395\n",
      "weighted avg       1.00      1.00      1.00      7395\n",
      "\n",
      "[[2663    0]\n",
      " [   0 4732]]\n",
      "-------------------------ROC-----------------------\n",
      "AUC: 0.95\n"
     ]
    },
    {
     "data": {
      "image/png": "[encoded data removed]",
      "text/plain": [
       "<Figure size 432x288 with 1 Axes>"
      ]
     },
     "metadata": {
      "needs_background": "light"
     },
     "output_type": "display_data"
    }
   ],
   "source": [
    "svm_clf = sklearn.svm.LinearSVC()\n",
    "\n",
    "svm_clf.fit(train_data, train_target)\n",
    "print(\"---------------------On test set--------------------\")\n",
    "print(sklearn.metrics.classification_report(test_target, svm_clf.predict(test_data), target_names=['Negative', 'Positive']))\n",
    "print(sklearn.metrics.confusion_matrix(test_target, svm_clf.predict(test_data)))\n",
    "print(\"---------------------On train set-------------------\")\n",
    "print(sklearn.metrics.classification_report(train_target, svm_clf.predict(train_data), target_names=['Negative', 'Positive']))\n",
    "print(sklearn.metrics.confusion_matrix(train_target, svm_clf.predict(train_data)))\n",
    "print(\"-------------------------ROC-----------------------\")\n",
    "from sklearn.metrics import roc_curve\n",
    "fpr,tpr, thresholds = roc_curve(test_target,svm_clf.decision_function(test_data))\n",
    "print ('AUC:', round(metrics.auc(fpr, tpr),3))\n",
    "task2_AUC.append(round(metrics.auc(fpr, tpr),3))\n",
    "plt.plot(fpr,tpr,label='ROC')\n",
    "plt.title(\"ROC for SVM in task2\")\n",
    "plt.xlabel('FPR')\n",
    "plt.ylabel('TPR')\n",
    "plt.show()"
   ]
  },
  {
   "cell_type": "code",
   "execution_count": 13,
   "id": "0b6674b7",
   "metadata": {},
   "outputs": [
    {
     "name": "stdout",
     "output_type": "stream",
     "text": [
      "---------------------On test set--------------------\n",
      "              precision    recall  f1-score   support\n",
      "\n",
      "    Negative       0.91      0.62      0.73       666\n",
      "    Positive       0.82      0.97      0.88      1183\n",
      "\n",
      "    accuracy                           0.84      1849\n",
      "   macro avg       0.86      0.79      0.81      1849\n",
      "weighted avg       0.85      0.84      0.83      1849\n",
      "\n",
      "[[ 410  256]\n",
      " [  41 1142]]\n",
      "---------------------On train set-------------------\n",
      "              precision    recall  f1-score   support\n",
      "\n",
      "    Negative       0.99      0.84      0.91      2663\n",
      "    Positive       0.92      0.99      0.95      4732\n",
      "\n",
      "    accuracy                           0.94      7395\n",
      "   macro avg       0.95      0.92      0.93      7395\n",
      "weighted avg       0.94      0.94      0.94      7395\n",
      "\n",
      "[[2245  418]\n",
      " [  28 4704]]\n",
      "-------------------------ROC-----------------------\n",
      "AUC: 0.933\n"
     ]
    },
    {
     "data": {
      "image/png": "[encoded data removed]",
      "text/plain": [
       "<Figure size 432x288 with 1 Axes>"
      ]
     },
     "metadata": {
      "needs_background": "light"
     },
     "output_type": "display_data"
    }
   ],
   "source": [
    "lgre_clf = sklearn.linear_model.LogisticRegression()\n",
    "\n",
    "lgre_clf.fit(train_data, train_target)\n",
    "print(\"---------------------On test set--------------------\")\n",
    "print(sklearn.metrics.classification_report(test_target, lgre_clf.predict(test_data), target_names=['Negative', 'Positive']))\n",
    "print(sklearn.metrics.confusion_matrix(test_target, lgre_clf.predict(test_data)))\n",
    "print(\"---------------------On train set-------------------\")\n",
    "print(sklearn.metrics.classification_report(train_target, lgre_clf.predict(train_data), target_names=['Negative', 'Positive']))\n",
    "print(sklearn.metrics.confusion_matrix(train_target, lgre_clf.predict(train_data)))\n",
    "print(\"-------------------------ROC-----------------------\")\n",
    "from sklearn.metrics import roc_curve\n",
    "fpr,tpr, thresholds = roc_curve(test_target,lgre_clf.decision_function(test_data))\n",
    "print ('AUC:', round(metrics.auc(fpr, tpr),3))\n",
    "task2_AUC.append(round(metrics.auc(fpr, tpr),3))\n",
    "plt.title(\"ROC for logistic regression in task2\")\n",
    "plt.plot(fpr,tpr,label='ROC')\n",
    "plt.xlabel('FPR')\n",
    "plt.ylabel('TPR')\n",
    "plt.show()"
   ]
  },
  {
   "cell_type": "code",
   "execution_count": 14,
   "id": "068f21d0",
   "metadata": {},
   "outputs": [
    {
     "name": "stdout",
     "output_type": "stream",
     "text": [
      "---------------------On test set--------------------\n",
      "              precision    recall  f1-score   support\n",
      "\n",
      "    Negative       0.99      0.22      0.36       666\n",
      "    Positive       0.69      1.00      0.82      1183\n",
      "\n",
      "    accuracy                           0.72      1849\n",
      "   macro avg       0.84      0.61      0.59      1849\n",
      "weighted avg       0.80      0.72      0.65      1849\n",
      "\n",
      "[[ 146  520]\n",
      " [   2 1181]]\n",
      "---------------------On train set-------------------\n",
      "              precision    recall  f1-score   support\n",
      "\n",
      "    Negative       1.00      0.45      0.63      2663\n",
      "    Positive       0.77      1.00      0.87      4732\n",
      "\n",
      "    accuracy                           0.80      7395\n",
      "   macro avg       0.88      0.73      0.75      7395\n",
      "weighted avg       0.85      0.80      0.78      7395\n",
      "\n",
      "[[1211 1452]\n",
      " [   0 4732]]\n",
      "-------------------------ROC-----------------------\n",
      "AUC: 0.911\n"
     ]
    },
    {
     "data": {
      "image/png": "[encoded data removed]",
      "text/plain": [
       "<Figure size 432x288 with 1 Axes>"
      ]
     },
     "metadata": {
      "needs_background": "light"
     },
     "output_type": "display_data"
    }
   ],
   "source": [
    "nvb_clf = sklearn.naive_bayes.MultinomialNB()\n",
    "\n",
    "nvb_clf.fit(train_data, train_target)\n",
    "print(\"---------------------On test set--------------------\")\n",
    "print(sklearn.metrics.classification_report(test_target, nvb_clf.predict(test_data), target_names=['Negative', 'Positive']))\n",
    "print(sklearn.metrics.confusion_matrix(test_target, nvb_clf.predict(test_data)))\n",
    "print(\"---------------------On train set-------------------\")\n",
    "print(sklearn.metrics.classification_report(train_target, nvb_clf.predict(train_data), target_names=['Negative', 'Positive']))\n",
    "print(sklearn.metrics.confusion_matrix(train_target, nvb_clf.predict(train_data)))\n",
    "print(\"-------------------------ROC-----------------------\")\n",
    "from sklearn.metrics import roc_curve\n",
    "fpr,tpr, thresholds = roc_curve(test_target,nvb_clf.predict_proba(test_data)[:,1])\n",
    "print ('AUC:', round(metrics.auc(fpr, tpr),3))\n",
    "task2_AUC.append(round(metrics.auc(fpr, tpr),3))\n",
    "plt.title(\"ROC for naive bayes in task2\")\n",
    "plt.plot(fpr,tpr,label='ROC')\n",
    "plt.xlabel('FPR')\n",
    "plt.ylabel('TPR')\n",
    "plt.show()"
   ]
  },
  {
   "cell_type": "markdown",
   "id": "196d0aa0",
   "metadata": {},
   "source": [
    "We can see that the SVM classifier has the highest AUC value and it has a high accuracy rate."
   ]
  },
  {
   "cell_type": "markdown",
   "id": "9906f6f3",
   "metadata": {},
   "source": [
    "Use **cross_validate** to validate classifiers. scoring=[\"accuracy\",\"f1\"]"
   ]
  },
  {
   "cell_type": "code",
   "execution_count": 15,
   "id": "57b4b05a",
   "metadata": {},
   "outputs": [],
   "source": [
    "scoring=[\"accuracy\",\"f1\"]\n",
    "svm_scores = cross_validate(svm_clf, data, target, cv=5,scoring=scoring,return_train_score=True)\n",
    "svm_time=svm_scores['fit_time'].mean()\n",
    "svm_test_accuracy=svm_scores['test_accuracy'].mean()\n",
    "svm_train_accuracy=svm_scores['train_accuracy'].mean()\n",
    "svm_test_f1=svm_scores['test_f1'].mean()\n",
    "svm_train_f1=svm_scores['train_f1'].mean()"
   ]
  },
  {
   "cell_type": "code",
   "execution_count": 16,
   "id": "ca8e1539",
   "metadata": {},
   "outputs": [],
   "source": [
    "lgre_scores = cross_validate(lgre_clf, data, target, cv=5,scoring=scoring,return_train_score=True)\n",
    "lgre_time=lgre_scores['fit_time'].mean()\n",
    "lgre_test_accuracy=lgre_scores['test_accuracy'].mean()\n",
    "lgre_train_accuracy=lgre_scores['train_accuracy'].mean()\n",
    "lgre_test_f1=lgre_scores['test_f1'].mean()\n",
    "lgre_train_f1=lgre_scores['train_f1'].mean()"
   ]
  },
  {
   "cell_type": "code",
   "execution_count": 17,
   "id": "2ef06bbf",
   "metadata": {},
   "outputs": [],
   "source": [
    "nvb_scores = cross_validate(nvb_clf, data, target, cv=5,scoring=scoring,return_train_score=True)\n",
    "nvb_time=nvb_scores['fit_time'].mean()\n",
    "nvb_test_accuracy=nvb_scores['test_accuracy'].mean()\n",
    "nvb_train_accuracy=nvb_scores['train_accuracy'].mean()\n",
    "nvb_test_f1=nvb_scores['test_f1'].mean()\n",
    "nvb_train_f1=nvb_scores['train_f1'].mean()"
   ]
  },
  {
   "cell_type": "markdown",
   "id": "c1928bab",
   "metadata": {},
   "source": [
    "#### Visualisation of classification results"
   ]
  },
  {
   "cell_type": "code",
   "execution_count": 18,
   "id": "8ec3264d",
   "metadata": {},
   "outputs": [
    {
     "data": {
      "image/png": "[encoded data removed]",
      "text/plain": [
       "<Figure size 432x288 with 1 Axes>"
      ]
     },
     "metadata": {
      "needs_background": "light"
     },
     "output_type": "display_data"
    },
    {
     "data": {
      "image/png": "[encoded data removed]",
      "text/plain": [
       "<Figure size 432x288 with 1 Axes>"
      ]
     },
     "metadata": {
      "needs_background": "light"
     },
     "output_type": "display_data"
    }
   ],
   "source": [
    "index = np.arange(3)\n",
    "bar_width = 0.35\n",
    "y1 = [svm_test_accuracy, lgre_test_accuracy, nvb_test_accuracy]\n",
    "y2 =[svm_train_accuracy, lgre_train_accuracy, nvb_train_accuracy]\n",
    "plt.bar(index, y1, bar_width,\n",
    "                alpha=0.4, color='b',label='test')\n",
    "plt.bar(index+bar_width, y2, bar_width,\n",
    "                alpha=0.4, color='r',label='train')\n",
    "x_labels = ['SVM', 'LogisticRegression', 'NaiveBayes']\n",
    "plt.xticks(index+bar_width/2, x_labels) \n",
    "plt.title(\"Accuracy between classifiers\")\n",
    "plt.legend(prop={\"size\": 9})\n",
    "plt.show()\n",
    "\n",
    "index = np.arange(3)\n",
    "bar_width = 0.35\n",
    "y1 = [svm_test_f1, lgre_test_f1, nvb_test_f1]\n",
    "y2 =[svm_train_f1, lgre_train_f1, nvb_train_f1]\n",
    "plt.bar(index, y1, bar_width,\n",
    "                alpha=0.4, color='b',label='test')\n",
    "plt.bar(index+bar_width, y2, bar_width,\n",
    "                alpha=0.4, color='r',label='train')\n",
    "x_labels = ['SVM', 'LogisticRegression', 'NaiveBayes']\n",
    "plt.xticks(index+bar_width/2, x_labels) \n",
    "plt.title(\"F1-score between classifiers\")\n",
    "plt.legend(prop={\"size\": 9})\n",
    "plt.show()"
   ]
  },
  {
   "cell_type": "markdown",
   "id": "72882357",
   "metadata": {},
   "source": [
    "As you can see the SVM classifier is the best classifier in this problem, achieving almost 100% accuracy in the training set and 88% accuracy in the test set. the naive bayes classifier is the least accurate, but it runs the fastest. The logistic regression classifier also gave good results but took longer."
   ]
  },
  {
   "cell_type": "markdown",
   "id": "e5e82a98",
   "metadata": {},
   "source": [
    "### LSTM classifier"
   ]
  },
  {
   "cell_type": "markdown",
   "id": "28ade4d1",
   "metadata": {},
   "source": [
    "Use the **factorize()** method to convert categorical values to numerical values."
   ]
  },
  {
   "cell_type": "code",
   "execution_count": 19,
   "id": "03145cf5",
   "metadata": {},
   "outputs": [],
   "source": [
    "sentiment_label = df.sentiment.factorize()\n",
    "word_new = df.word_new.values"
   ]
  },
  {
   "cell_type": "markdown",
   "id": "9ef21a9f",
   "metadata": {},
   "source": [
    "With the help of the tokeniser, all words in the text are tokenised. During tokenisation, we break down all words/sentences in the text into small parts called tokens."
   ]
  },
  {
   "cell_type": "code",
   "execution_count": 20,
   "id": "d8ce08ec",
   "metadata": {},
   "outputs": [],
   "source": [
    "from tensorflow.keras.preprocessing.text import Tokenizer\n",
    "tokenizer = Tokenizer(num_words=5000)\n",
    "tokenizer.fit_on_texts(word_new)\n",
    "vocab_size = len(tokenizer.word_index) + 1"
   ]
  },
  {
   "cell_type": "markdown",
   "id": "5972f334",
   "metadata": {},
   "source": [
    "Use the **text_to_sequence()** method to replace the word with its specified number."
   ]
  },
  {
   "cell_type": "code",
   "execution_count": 21,
   "id": "bae6421a",
   "metadata": {},
   "outputs": [],
   "source": [
    "word_seq = tokenizer.texts_to_sequences(word_new)"
   ]
  },
  {
   "cell_type": "markdown",
   "id": "a6354c55",
   "metadata": {},
   "source": [
    "Then we let all sentences have the same length."
   ]
  },
  {
   "cell_type": "code",
   "execution_count": 22,
   "id": "eec235a7",
   "metadata": {},
   "outputs": [],
   "source": [
    "from tensorflow.keras.preprocessing.sequence import pad_sequences\n",
    "word_pad = pad_sequences(word_seq, maxlen=200)"
   ]
  },
  {
   "cell_type": "code",
   "execution_count": 23,
   "id": "f04c39e2",
   "metadata": {},
   "outputs": [
    {
     "name": "stdout",
     "output_type": "stream",
     "text": [
      "Model: \"sequential\"\n",
      "_________________________________________________________________\n",
      " Layer (type)                Output Shape              Param #   \n",
      "=================================================================\n",
      " embedding (Embedding)       (None, 200, 32)           890784    \n",
      "                                                                 \n",
      " spatial_dropout1d (SpatialD  (None, 200, 32)          0         \n",
      " ropout1D)                                                       \n",
      "                                                                 \n",
      " lstm (LSTM)                 (None, 50)                16600     \n",
      "                                                                 \n",
      " dropout (Dropout)           (None, 50)                0         \n",
      "                                                                 \n",
      " dense (Dense)               (None, 1)                 51        \n",
      "                                                                 \n",
      "=================================================================\n",
      "Total params: 907,435\n",
      "Trainable params: 907,435\n",
      "Non-trainable params: 0\n",
      "_________________________________________________________________\n",
      "None\n"
     ]
    }
   ],
   "source": [
    "embedding_vector_length = 32\n",
    "model = Sequential()\n",
    "model.add(Embedding(vocab_size, embedding_vector_length, input_length=200))\n",
    "model.add(SpatialDropout1D(0.25))\n",
    "model.add(LSTM(50, dropout=0.5, recurrent_dropout=0.5))\n",
    "model.add(Dropout(0.2))\n",
    "model.add(Dense(1, activation='sigmoid'))\n",
    "model.compile(loss='binary_crossentropy',optimizer='adam', metrics=['accuracy'])\n",
    "print(model.summary())"
   ]
  },
  {
   "cell_type": "code",
   "execution_count": 24,
   "id": "bb449403",
   "metadata": {},
   "outputs": [
    {
     "name": "stdout",
     "output_type": "stream",
     "text": [
      "Epoch 1/5\n",
      "116/116 [==============================] - 16s 124ms/step - loss: 0.5681 - accuracy: 0.7048 - val_loss: 0.4244 - val_accuracy: 0.8183\n",
      "Epoch 2/5\n",
      "116/116 [==============================] - 14s 123ms/step - loss: 0.3422 - accuracy: 0.8646 - val_loss: 0.3371 - val_accuracy: 0.8561\n",
      "Epoch 3/5\n",
      "116/116 [==============================] - 14s 124ms/step - loss: 0.2521 - accuracy: 0.9044 - val_loss: 0.3170 - val_accuracy: 0.8561\n",
      "Epoch 4/5\n",
      "116/116 [==============================] - 14s 125ms/step - loss: 0.2133 - accuracy: 0.9235 - val_loss: 0.3192 - val_accuracy: 0.8626\n",
      "Epoch 5/5\n",
      "116/116 [==============================] - 15s 125ms/step - loss: 0.1788 - accuracy: 0.9333 - val_loss: 0.3805 - val_accuracy: 0.8707\n"
     ]
    }
   ],
   "source": [
    "history = model.fit(word_pad,sentiment_label[0],validation_split=0.2, epochs=5, batch_size=64)"
   ]
  },
  {
   "cell_type": "code",
   "execution_count": 25,
   "id": "ded4d737",
   "metadata": {},
   "outputs": [
    {
     "data": {
      "image/png": "[encoded data removed]",
      "text/plain": [
       "<Figure size 432x288 with 1 Axes>"
      ]
     },
     "metadata": {
      "needs_background": "light"
     },
     "output_type": "display_data"
    }
   ],
   "source": [
    "import matplotlib.pyplot as plt\n",
    "plt.plot(history.history['accuracy'], label='acc')\n",
    "plt.plot(history.history['val_accuracy'], label='val_acc')\n",
    "plt.title(\"acc & val_acc for LSTM in task2\")\n",
    "plt.legend()\n",
    "plt.show()"
   ]
  },
  {
   "cell_type": "markdown",
   "id": "4d91f944",
   "metadata": {},
   "source": [
    "It can be seen that the lstm classifier has an accuracy of about 86% at the end. It is possible to see that by epoch 3 the accuracy of the test set is not hinted at. To prevent overfitting, we can let training stop at epoch 3."
   ]
  },
  {
   "cell_type": "code",
   "execution_count": 26,
   "id": "acd00382",
   "metadata": {},
   "outputs": [
    {
     "name": "stdout",
     "output_type": "stream",
     "text": [
      "The mean val_accuracy is: 0.853 .\n"
     ]
    }
   ],
   "source": [
    "print(\"The mean val_accuracy is:\",round(mean(history.history['val_accuracy']),3),'.')"
   ]
  },
  {
   "cell_type": "markdown",
   "id": "8b75f95b",
   "metadata": {},
   "source": [
    "#### Let's see how it works"
   ]
  },
  {
   "cell_type": "code",
   "execution_count": 27,
   "id": "187b9130",
   "metadata": {},
   "outputs": [
    {
     "name": "stdout",
     "output_type": "stream",
     "text": [
      "Predicted label:  negative\n",
      "Predicted label:  negative\n",
      "Predicted label:  positive\n"
     ]
    }
   ],
   "source": [
    "def predict_sentiment(text):\n",
    "    tw = tokenizer.texts_to_sequences([text])\n",
    "    tw = pad_sequences(tw,maxlen=200)\n",
    "    prediction = int(model.predict(tw).round().item())\n",
    "    print(\"Predicted label: \", sentiment_label[1][prediction])\n",
    "\n",
    "\n",
    "test_sentence1 = \"shake bake reverse (bake shaking), you're going mess. parmesan just won't stick extra gritty. want good chicken, make sure follow prescribed order: 1) shake 2) bake you're going finest chicken known man. shake 'n bake baby! …\"\n",
    "predict_sentiment(test_sentence1)\n",
    "\n",
    "test_sentence2 = \"This is the worst flight experience of my life!nearly expired product like reviewer, received box nearly expired product. consume month ordering good deal, buy elsewhere. …\"\n",
    "predict_sentiment(test_sentence2)\n",
    "\n",
    "test_sentence3 = \"lots okay matcha amazing price matcha comes different grades. make mistake, going pound high-quality matcha dollars. matcha drinking; matcha cooking, baking, adventurously powdering breakfast cereal ice cream with. want stuff used japanese tea ceremony, plan pay minimum dollar gram, want lot decent matcha purposes good price, it. …\"\n",
    "predict_sentiment(test_sentence3)"
   ]
  },
  {
   "cell_type": "markdown",
   "id": "4896e5da",
   "metadata": {},
   "source": [
    "## Task 3. Review Helpfulness Classification"
   ]
  },
  {
   "cell_type": "markdown",
   "id": "3f3aea96",
   "metadata": {},
   "source": [
    "I assume that the number of people who have read the reviews is greater than 10 and that the reviews that more than 89% of people find useful are \"helpful reviews\"."
   ]
  },
  {
   "cell_type": "code",
   "execution_count": 28,
   "id": "026c29bb",
   "metadata": {},
   "outputs": [
    {
     "data": {
      "text/plain": [
       "Helpful      4774\n",
       "Unhelpful    4470\n",
       "Name: help, dtype: int64"
      ]
     },
     "execution_count": 28,
     "metadata": {},
     "output_type": "execute_result"
    }
   ],
   "source": [
    "df['help']=df.apply(lambda x: 'Helpful' if x[4]>=10 and x[3]/x[4]>=0.89 else 'Unhelpful', axis=1)\n",
    "df['help'].value_counts()"
   ]
  },
  {
   "cell_type": "code",
   "execution_count": 29,
   "id": "a3b65cbd",
   "metadata": {},
   "outputs": [
    {
     "data": {
      "text/html": [
       "<div>\n",
       "<style scoped>\n",
       "    .dataframe tbody tr th:only-of-type {\n",
       "        vertical-align: middle;\n",
       "    }\n",
       "\n",
       "    .dataframe tbody tr th {\n",
       "        vertical-align: top;\n",
       "    }\n",
       "\n",
       "    .dataframe thead th {\n",
       "        text-align: right;\n",
       "    }\n",
       "</style>\n",
       "<table border=\"1\" class=\"dataframe\">\n",
       "  <thead>\n",
       "    <tr style=\"text-align: right;\">\n",
       "      <th></th>\n",
       "      <th>star</th>\n",
       "      <th>title</th>\n",
       "      <th>review</th>\n",
       "      <th>helpful1</th>\n",
       "      <th>helpful2</th>\n",
       "      <th>word_new</th>\n",
       "      <th>sentiment</th>\n",
       "      <th>help</th>\n",
       "    </tr>\n",
       "  </thead>\n",
       "  <tbody>\n",
       "    <tr>\n",
       "      <th>0</th>\n",
       "      <td>2</td>\n",
       "      <td>The herbs were great...but the cherry tomatoes...</td>\n",
       "      <td>The herb kit that came with my Aerogarden was ...</td>\n",
       "      <td>15</td>\n",
       "      <td>17</td>\n",
       "      <td>herbs great...but cherry tomatoes...not great ...</td>\n",
       "      <td>negative</td>\n",
       "      <td>Unhelpful</td>\n",
       "    </tr>\n",
       "    <tr>\n",
       "      <th>1</th>\n",
       "      <td>5</td>\n",
       "      <td>Even more useful than regular parchment paper</td>\n",
       "      <td>I originally bought this just because it was c...</td>\n",
       "      <td>19</td>\n",
       "      <td>19</td>\n",
       "      <td>useful regular parchment paper originally boug...</td>\n",
       "      <td>positive</td>\n",
       "      <td>Helpful</td>\n",
       "    </tr>\n",
       "    <tr>\n",
       "      <th>2</th>\n",
       "      <td>2</td>\n",
       "      <td>Shake it before you bake it</td>\n",
       "      <td>If you do it in reverse (bake before shaking),...</td>\n",
       "      <td>2</td>\n",
       "      <td>13</td>\n",
       "      <td>shake bake reverse (bake shaking), you're goin...</td>\n",
       "      <td>negative</td>\n",
       "      <td>Unhelpful</td>\n",
       "    </tr>\n",
       "    <tr>\n",
       "      <th>3</th>\n",
       "      <td>2</td>\n",
       "      <td>Not what the picture describes</td>\n",
       "      <td>I bought this steak for my father in law for C...</td>\n",
       "      <td>7</td>\n",
       "      <td>14</td>\n",
       "      <td>picture describes bought steak father law chri...</td>\n",
       "      <td>negative</td>\n",
       "      <td>Unhelpful</td>\n",
       "    </tr>\n",
       "    <tr>\n",
       "      <th>4</th>\n",
       "      <td>2</td>\n",
       "      <td>What a ripe off - GIVE ME A BREAK</td>\n",
       "      <td>Sorry but I had these noodles and they are no ...</td>\n",
       "      <td>10</td>\n",
       "      <td>34</td>\n",
       "      <td>ripe - break sorry noodles better 10 - 20 cent...</td>\n",
       "      <td>negative</td>\n",
       "      <td>Unhelpful</td>\n",
       "    </tr>\n",
       "  </tbody>\n",
       "</table>\n",
       "</div>"
      ],
      "text/plain": [
       "   star                                              title  \\\n",
       "0     2  The herbs were great...but the cherry tomatoes...   \n",
       "1     5      Even more useful than regular parchment paper   \n",
       "2     2                        Shake it before you bake it   \n",
       "3     2                     Not what the picture describes   \n",
       "4     2                  What a ripe off - GIVE ME A BREAK   \n",
       "\n",
       "                                              review  helpful1  helpful2  \\\n",
       "0  The herb kit that came with my Aerogarden was ...        15        17   \n",
       "1  I originally bought this just because it was c...        19        19   \n",
       "2  If you do it in reverse (bake before shaking),...         2        13   \n",
       "3  I bought this steak for my father in law for C...         7        14   \n",
       "4  Sorry but I had these noodles and they are no ...        10        34   \n",
       "\n",
       "                                            word_new sentiment       help  \n",
       "0  herbs great...but cherry tomatoes...not great ...  negative  Unhelpful  \n",
       "1  useful regular parchment paper originally boug...  positive    Helpful  \n",
       "2  shake bake reverse (bake shaking), you're goin...  negative  Unhelpful  \n",
       "3  picture describes bought steak father law chri...  negative  Unhelpful  \n",
       "4  ripe - break sorry noodles better 10 - 20 cent...  negative  Unhelpful  "
      ]
     },
     "execution_count": 29,
     "metadata": {},
     "output_type": "execute_result"
    }
   ],
   "source": [
    "df.head()"
   ]
  },
  {
   "cell_type": "code",
   "execution_count": 30,
   "id": "2ad2db50",
   "metadata": {},
   "outputs": [],
   "source": [
    "target=df[\"help\"].values\n",
    "target=pd.DataFrame(target)[0].factorize()[0]"
   ]
  },
  {
   "cell_type": "markdown",
   "id": "dbc44bb4",
   "metadata": {},
   "source": [
    "### Classifiers with Tfidf features"
   ]
  },
  {
   "cell_type": "markdown",
   "id": "d9087da5",
   "metadata": {},
   "source": [
    "#### Bulid classifiers"
   ]
  },
  {
   "cell_type": "markdown",
   "id": "7513589a",
   "metadata": {},
   "source": [
    "Use **train_test_split** to split the train and test set."
   ]
  },
  {
   "cell_type": "code",
   "execution_count": 31,
   "id": "09603086",
   "metadata": {},
   "outputs": [],
   "source": [
    "train_data,test_data,train_target,test_target=train_test_split(data,target,test_size = 0.2,stratify = target)"
   ]
  },
  {
   "cell_type": "markdown",
   "id": "53cd3f81",
   "metadata": {},
   "source": [
    "I create three separate classifiers as Task2. Then I look at their performance on the training set and the test set respectively, and plot the ROC curves."
   ]
  },
  {
   "cell_type": "code",
   "execution_count": 32,
   "id": "265be32e",
   "metadata": {},
   "outputs": [
    {
     "name": "stdout",
     "output_type": "stream",
     "text": [
      "---------------------On test set--------------------\n",
      "              precision    recall  f1-score   support\n",
      "\n",
      "   Unhelpful       0.80      0.80      0.80       894\n",
      "     Helpful       0.81      0.82      0.81       955\n",
      "\n",
      "    accuracy                           0.81      1849\n",
      "   macro avg       0.81      0.81      0.81      1849\n",
      "weighted avg       0.81      0.81      0.81      1849\n",
      "\n",
      "[[711 183]\n",
      " [176 779]]\n",
      "---------------------On train set-------------------\n",
      "              precision    recall  f1-score   support\n",
      "\n",
      "   Unhelpful       1.00      1.00      1.00      3576\n",
      "     Helpful       1.00      1.00      1.00      3819\n",
      "\n",
      "    accuracy                           1.00      7395\n",
      "   macro avg       1.00      1.00      1.00      7395\n",
      "weighted avg       1.00      1.00      1.00      7395\n",
      "\n",
      "[[3575    1]\n",
      " [   7 3812]]\n",
      "-------------------------ROC-----------------------\n",
      "AUC: 0.889\n"
     ]
    },
    {
     "data": {
      "image/png": "[encoded data removed]",
      "text/plain": [
       "<Figure size 432x288 with 1 Axes>"
      ]
     },
     "metadata": {
      "needs_background": "light"
     },
     "output_type": "display_data"
    }
   ],
   "source": [
    "svm_clf = sklearn.svm.LinearSVC()\n",
    "\n",
    "svm_clf.fit(train_data, train_target)\n",
    "print(\"---------------------On test set--------------------\")\n",
    "print(sklearn.metrics.classification_report(test_target, svm_clf.predict(test_data), target_names=['Unhelpful', 'Helpful']))\n",
    "print(sklearn.metrics.confusion_matrix(test_target, svm_clf.predict(test_data)))\n",
    "print(\"---------------------On train set-------------------\")\n",
    "print(sklearn.metrics.classification_report(train_target, svm_clf.predict(train_data), target_names=['Unhelpful', 'Helpful']))\n",
    "print(sklearn.metrics.confusion_matrix(train_target, svm_clf.predict(train_data)))\n",
    "print(\"-------------------------ROC-----------------------\")\n",
    "from sklearn.metrics import roc_curve\n",
    "fpr,tpr, thresholds = roc_curve(test_target,svm_clf.decision_function(test_data))\n",
    "print ('AUC:', round(metrics.auc(fpr, tpr),3))\n",
    "task3_AUC.append(round(metrics.auc(fpr, tpr),3))\n",
    "plt.title(\"ROC for SVM in task3\")\n",
    "plt.plot(fpr,tpr,label='ROC')\n",
    "plt.xlabel('FPR')\n",
    "plt.ylabel('TPR')\n",
    "plt.show()"
   ]
  },
  {
   "cell_type": "code",
   "execution_count": 33,
   "id": "cbf5c70c",
   "metadata": {},
   "outputs": [
    {
     "name": "stdout",
     "output_type": "stream",
     "text": [
      "---------------------On test set--------------------\n",
      "              precision    recall  f1-score   support\n",
      "\n",
      "   Unhelpful       0.79      0.77      0.78       894\n",
      "     Helpful       0.79      0.81      0.80       955\n",
      "\n",
      "    accuracy                           0.79      1849\n",
      "   macro avg       0.79      0.79      0.79      1849\n",
      "weighted avg       0.79      0.79      0.79      1849\n",
      "\n",
      "[[687 207]\n",
      " [178 777]]\n",
      "---------------------On train set-------------------\n",
      "              precision    recall  f1-score   support\n",
      "\n",
      "   Unhelpful       0.95      0.93      0.94      3576\n",
      "     Helpful       0.94      0.96      0.95      3819\n",
      "\n",
      "    accuracy                           0.94      7395\n",
      "   macro avg       0.95      0.94      0.94      7395\n",
      "weighted avg       0.94      0.94      0.94      7395\n",
      "\n",
      "[[3329  247]\n",
      " [ 163 3656]]\n",
      "-------------------------ROC-----------------------\n",
      "AUC: 0.866\n"
     ]
    },
    {
     "data": {
      "image/png": "[encoded data removed]",
      "text/plain": [
       "<Figure size 432x288 with 1 Axes>"
      ]
     },
     "metadata": {
      "needs_background": "light"
     },
     "output_type": "display_data"
    }
   ],
   "source": [
    "lgre_clf = sklearn.linear_model.LogisticRegression()\n",
    "\n",
    "lgre_clf.fit(train_data, train_target)\n",
    "print(\"---------------------On test set--------------------\")\n",
    "print(sklearn.metrics.classification_report(test_target, lgre_clf.predict(test_data), target_names=['Unhelpful', 'Helpful']))\n",
    "print(sklearn.metrics.confusion_matrix(test_target, lgre_clf.predict(test_data)))\n",
    "print(\"---------------------On train set-------------------\")\n",
    "print(sklearn.metrics.classification_report(train_target, lgre_clf.predict(train_data), target_names=['Unhelpful', 'Helpful']))\n",
    "print(sklearn.metrics.confusion_matrix(train_target, lgre_clf.predict(train_data)))\n",
    "print(\"-------------------------ROC-----------------------\")\n",
    "from sklearn.metrics import roc_curve\n",
    "fpr,tpr, thresholds = roc_curve(test_target,lgre_clf.decision_function(test_data))\n",
    "print ('AUC:', round(metrics.auc(fpr, tpr),3))\n",
    "task3_AUC.append(round(metrics.auc(fpr, tpr),3))\n",
    "plt.title(\"ROC for logistic regression in task3\")\n",
    "plt.plot(fpr,tpr,label='ROC')\n",
    "plt.xlabel('FPR')\n",
    "plt.ylabel('TPR')\n",
    "plt.show()"
   ]
  },
  {
   "cell_type": "code",
   "execution_count": 34,
   "id": "a3e908e9",
   "metadata": {},
   "outputs": [
    {
     "name": "stdout",
     "output_type": "stream",
     "text": [
      "---------------------On test set--------------------\n",
      "              precision    recall  f1-score   support\n",
      "\n",
      "   Unhelpful       0.88      0.55      0.68       894\n",
      "     Helpful       0.69      0.93      0.79       955\n",
      "\n",
      "    accuracy                           0.75      1849\n",
      "   macro avg       0.78      0.74      0.74      1849\n",
      "weighted avg       0.78      0.75      0.74      1849\n",
      "\n",
      "[[495 399]\n",
      " [ 69 886]]\n",
      "---------------------On train set-------------------\n",
      "              precision    recall  f1-score   support\n",
      "\n",
      "   Unhelpful       0.99      0.91      0.95      3576\n",
      "     Helpful       0.92      0.99      0.95      3819\n",
      "\n",
      "    accuracy                           0.95      7395\n",
      "   macro avg       0.96      0.95      0.95      7395\n",
      "weighted avg       0.95      0.95      0.95      7395\n",
      "\n",
      "[[3239  337]\n",
      " [  27 3792]]\n",
      "-------------------------ROC-----------------------\n",
      "AUC: 0.87\n"
     ]
    },
    {
     "data": {
      "image/png": "[encoded data removed]",
      "text/plain": [
       "<Figure size 432x288 with 1 Axes>"
      ]
     },
     "metadata": {
      "needs_background": "light"
     },
     "output_type": "display_data"
    }
   ],
   "source": [
    "nvb_clf = sklearn.naive_bayes.MultinomialNB()\n",
    "\n",
    "nvb_clf.fit(train_data, train_target)\n",
    "print(\"---------------------On test set--------------------\")\n",
    "print(sklearn.metrics.classification_report(test_target, nvb_clf.predict(test_data), target_names=['Unhelpful', 'Helpful']))\n",
    "print(sklearn.metrics.confusion_matrix(test_target, nvb_clf.predict(test_data)))\n",
    "print(\"---------------------On train set-------------------\")\n",
    "print(sklearn.metrics.classification_report(train_target, nvb_clf.predict(train_data), target_names=['Unhelpful', 'Helpful']))\n",
    "print(sklearn.metrics.confusion_matrix(train_target, nvb_clf.predict(train_data)))\n",
    "print(\"-------------------------ROC-----------------------\")\n",
    "from sklearn.metrics import roc_curve\n",
    "fpr,tpr, thresholds = roc_curve(test_target,nvb_clf.predict_proba(test_data)[:,1])\n",
    "print ('AUC:', round(metrics.auc(fpr, tpr),3))\n",
    "task3_AUC.append(round(metrics.auc(fpr, tpr),3))\n",
    "plt.title(\"ROC for naive bayes in task3\")\n",
    "plt.plot(fpr,tpr,label='ROC')\n",
    "plt.xlabel('FPR')\n",
    "plt.ylabel('TPR')\n",
    "plt.show()"
   ]
  },
  {
   "cell_type": "markdown",
   "id": "582f6cd8",
   "metadata": {},
   "source": [
    "Use **cross_validate** to validate classifiers."
   ]
  },
  {
   "cell_type": "code",
   "execution_count": 35,
   "id": "a6647c47",
   "metadata": {},
   "outputs": [],
   "source": [
    "svm_scores = cross_validate(svm_clf, data, target, cv=5,scoring=scoring,return_train_score=True)\n",
    "svm_time=svm_scores['fit_time'].mean()\n",
    "svm_test_accuracy=svm_scores['test_accuracy'].mean()\n",
    "svm_train_accuracy=svm_scores['train_accuracy'].mean()\n",
    "svm_test_f1=svm_scores['test_f1'].mean()\n",
    "svm_train_f1=svm_scores['train_f1'].mean()"
   ]
  },
  {
   "cell_type": "code",
   "execution_count": 36,
   "id": "a5e6d483",
   "metadata": {},
   "outputs": [],
   "source": [
    "lgre_scores = cross_validate(lgre_clf, data, target, cv=5,scoring=scoring,return_train_score=True)\n",
    "lgre_time=lgre_scores['fit_time'].mean()\n",
    "lgre_test_accuracy=lgre_scores['test_accuracy'].mean()\n",
    "lgre_train_accuracy=lgre_scores['train_accuracy'].mean()\n",
    "lgre_test_f1=lgre_scores['test_f1'].mean()\n",
    "lgre_train_f1=lgre_scores['train_f1'].mean()"
   ]
  },
  {
   "cell_type": "code",
   "execution_count": 37,
   "id": "9fb2e006",
   "metadata": {},
   "outputs": [],
   "source": [
    "nvb_scores = cross_validate(nvb_clf, data, target, cv=5,scoring=scoring,return_train_score=True)\n",
    "nvb_time=nvb_scores['fit_time'].mean()\n",
    "nvb_test_accuracy=nvb_scores['test_accuracy'].mean()\n",
    "nvb_train_accuracy=nvb_scores['train_accuracy'].mean()\n",
    "nvb_test_f1=nvb_scores['test_f1'].mean()\n",
    "nvb_train_f1=nvb_scores['train_f1'].mean()"
   ]
  },
  {
   "cell_type": "markdown",
   "id": "703bc4b9",
   "metadata": {},
   "source": [
    "#### Visualisation of classification results"
   ]
  },
  {
   "cell_type": "code",
   "execution_count": 38,
   "id": "61eabc18",
   "metadata": {},
   "outputs": [
    {
     "data": {
      "image/png": "[encoded data removed]",
      "text/plain": [
       "<Figure size 432x288 with 1 Axes>"
      ]
     },
     "metadata": {
      "needs_background": "light"
     },
     "output_type": "display_data"
    },
    {
     "data": {
      "image/png": "[encoded data removed]",
      "text/plain": [
       "<Figure size 432x288 with 1 Axes>"
      ]
     },
     "metadata": {
      "needs_background": "light"
     },
     "output_type": "display_data"
    }
   ],
   "source": [
    "index = np.arange(3)\n",
    "bar_width = 0.35\n",
    "y1 = [svm_test_accuracy, lgre_test_accuracy, nvb_test_accuracy]\n",
    "y2 =[svm_train_accuracy, lgre_train_accuracy, nvb_train_accuracy]\n",
    "plt.bar(index, y1, bar_width,\n",
    "                alpha=0.4, color='b',label='test')\n",
    "plt.bar(index+bar_width, y2, bar_width,\n",
    "                alpha=0.4, color='r',label='train')\n",
    "x_labels = ['SVM', 'LogisticRegression', 'NaiveBayes']\n",
    "plt.xticks(index+bar_width/2, x_labels) \n",
    "plt.title(\"Accuracy between classifiers\")\n",
    "plt.legend(prop={\"size\": 9})\n",
    "plt.show()\n",
    "\n",
    "index = np.arange(3)\n",
    "bar_width = 0.35\n",
    "y1 = [svm_test_f1, lgre_test_f1, nvb_test_f1]\n",
    "y2 =[svm_train_f1, lgre_train_f1, nvb_train_f1]\n",
    "plt.bar(index, y1, bar_width,\n",
    "                alpha=0.4, color='b',label='test')\n",
    "plt.bar(index+bar_width, y2, bar_width,\n",
    "                alpha=0.4, color='r',label='train')\n",
    "x_labels = ['SVM', 'LogisticRegression', 'NaiveBayes']\n",
    "plt.xticks(index+bar_width/2, x_labels) \n",
    "plt.title(\"F1-score between classifiers\")\n",
    "plt.legend(prop={\"size\": 9})\n",
    "plt.show()"
   ]
  },
  {
   "cell_type": "markdown",
   "id": "f9812d78",
   "metadata": {},
   "source": [
    "### LSTM classifier"
   ]
  },
  {
   "cell_type": "markdown",
   "id": "0f848488",
   "metadata": {},
   "source": [
    "Use the **factorize()** method to convert categorical values to numerical values."
   ]
  },
  {
   "cell_type": "code",
   "execution_count": 39,
   "id": "d24903af",
   "metadata": {},
   "outputs": [],
   "source": [
    "help_label = df.help.factorize()\n",
    "word_new = df.word_new.values"
   ]
  },
  {
   "cell_type": "markdown",
   "id": "3f7f1039",
   "metadata": {},
   "source": [
    "With the help of the tokeniser, all words in the text are tokenised. During tokenisation, we break down all words/sentences in the text into small parts called tokens."
   ]
  },
  {
   "cell_type": "code",
   "execution_count": 40,
   "id": "c875d7f8",
   "metadata": {},
   "outputs": [],
   "source": [
    "from tensorflow.keras.preprocessing.text import Tokenizer\n",
    "tokenizer = Tokenizer(num_words=5000)\n",
    "tokenizer.fit_on_texts(word_new)\n",
    "vocab_size = len(tokenizer.word_index) + 1"
   ]
  },
  {
   "cell_type": "markdown",
   "id": "297374d8",
   "metadata": {},
   "source": [
    "Use the **text_to_sequence()** method to replace the word with its specified number."
   ]
  },
  {
   "cell_type": "code",
   "execution_count": 41,
   "id": "288cbe92",
   "metadata": {},
   "outputs": [],
   "source": [
    "word_seq = tokenizer.texts_to_sequences(word_new)"
   ]
  },
  {
   "cell_type": "markdown",
   "id": "9a8e4689",
   "metadata": {},
   "source": [
    "let all sentences have the same length."
   ]
  },
  {
   "cell_type": "code",
   "execution_count": 42,
   "id": "7580b6a9",
   "metadata": {},
   "outputs": [],
   "source": [
    "word_pad = pad_sequences(word_seq, maxlen=200)"
   ]
  },
  {
   "cell_type": "markdown",
   "id": "57bcff2e",
   "metadata": {},
   "source": [
    "Build LSTM."
   ]
  },
  {
   "cell_type": "code",
   "execution_count": 43,
   "id": "d4ad935e",
   "metadata": {},
   "outputs": [],
   "source": [
    "embedding_vector_length = 32\n",
    "model = Sequential()\n",
    "model.add(Embedding(vocab_size, embedding_vector_length, input_length=200))\n",
    "model.add(SpatialDropout1D(0.25))\n",
    "model.add(LSTM(50, dropout=0.5, recurrent_dropout=0.5))\n",
    "model.add(Dropout(0.2))\n",
    "model.add(Dense(1, activation='sigmoid'))\n",
    "model.compile(loss='binary_crossentropy',optimizer='adam', metrics=['accuracy'])"
   ]
  },
  {
   "cell_type": "code",
   "execution_count": 44,
   "id": "0f23f505",
   "metadata": {},
   "outputs": [
    {
     "name": "stdout",
     "output_type": "stream",
     "text": [
      "Epoch 1/8\n",
      "232/232 [==============================] - 26s 105ms/step - loss: 0.6291 - accuracy: 0.6349 - val_loss: 0.5462 - val_accuracy: 0.7361\n",
      "Epoch 2/8\n",
      "232/232 [==============================] - 24s 105ms/step - loss: 0.4817 - accuracy: 0.7761 - val_loss: 0.5205 - val_accuracy: 0.7534\n",
      "Epoch 3/8\n",
      "232/232 [==============================] - 25s 106ms/step - loss: 0.4094 - accuracy: 0.8266 - val_loss: 0.5249 - val_accuracy: 0.7691\n",
      "Epoch 4/8\n",
      "232/232 [==============================] - 25s 108ms/step - loss: 0.3610 - accuracy: 0.8488 - val_loss: 0.5460 - val_accuracy: 0.7610\n",
      "Epoch 5/8\n",
      "232/232 [==============================] - 25s 106ms/step - loss: 0.3268 - accuracy: 0.8698 - val_loss: 0.5838 - val_accuracy: 0.7626\n",
      "Epoch 6/8\n",
      "232/232 [==============================] - 25s 107ms/step - loss: 0.2967 - accuracy: 0.8822 - val_loss: 0.5949 - val_accuracy: 0.7658\n",
      "Epoch 7/8\n",
      "232/232 [==============================] - 28s 121ms/step - loss: 0.2741 - accuracy: 0.8905 - val_loss: 0.5837 - val_accuracy: 0.7577\n",
      "Epoch 8/8\n",
      "232/232 [==============================] - 26s 111ms/step - loss: 0.2494 - accuracy: 0.9040 - val_loss: 0.6865 - val_accuracy: 0.7566\n"
     ]
    }
   ],
   "source": [
    "history = model.fit(word_pad,help_label[0],validation_split=0.2, epochs=8, batch_size=32)"
   ]
  },
  {
   "cell_type": "code",
   "execution_count": 45,
   "id": "b3d7f2ae",
   "metadata": {},
   "outputs": [
    {
     "data": {
      "image/png": "[encoded data removed]",
      "text/plain": [
       "<Figure size 432x288 with 1 Axes>"
      ]
     },
     "metadata": {
      "needs_background": "light"
     },
     "output_type": "display_data"
    }
   ],
   "source": [
    "import matplotlib.pyplot as plt\n",
    "plt.plot(history.history['accuracy'], label='acc')\n",
    "plt.plot(history.history['val_accuracy'], label='val_acc')\n",
    "plt.title(\"acc & val_acc for LSTM in task3\")\n",
    "plt.legend()\n",
    "plt.show()"
   ]
  },
  {
   "cell_type": "code",
   "execution_count": 46,
   "id": "4af1f9e5",
   "metadata": {},
   "outputs": [
    {
     "name": "stdout",
     "output_type": "stream",
     "text": [
      "The mean val_accuracy of last 3 epoch is: 0.76 .\n"
     ]
    }
   ],
   "source": [
    "print(\"The mean val_accuracy of last 3 epoch is:\",round(mean(history.history['val_accuracy'][-3:]),3),'.')"
   ]
  },
  {
   "cell_type": "markdown",
   "id": "b7347b22",
   "metadata": {},
   "source": [
    "### Differences between the results from Tasks 2&3"
   ]
  },
  {
   "cell_type": "markdown",
   "id": "f80ef4be",
   "metadata": {},
   "source": [
    "Let's look at the AUC of the different classifiers in TASK2 and TASK3."
   ]
  },
  {
   "cell_type": "code",
   "execution_count": 47,
   "id": "01ce63d5",
   "metadata": {},
   "outputs": [
    {
     "data": {
      "image/png": "[encoded data removed]",
      "text/plain": [
       "<Figure size 432x288 with 1 Axes>"
      ]
     },
     "metadata": {
      "needs_background": "light"
     },
     "output_type": "display_data"
    }
   ],
   "source": [
    "index = np.arange(3)\n",
    "bar_width = 0.35\n",
    " \n",
    "plt.bar(index, task2_AUC, bar_width,\n",
    "                alpha=0.4, color='b',label='Task2')\n",
    "plt.bar(index+bar_width, task3_AUC, bar_width,\n",
    "                alpha=0.4, color='r',label='Task3')\n",
    "x_labels = ['SVM', 'LogisticRegression', 'NaiveBayes']\n",
    "plt.xticks(index+bar_width/2, x_labels) \n",
    "plt.title(\"AUC between Tasks 2&3 classifiers\")\n",
    "plt.legend(prop={\"size\": 7.5})\n",
    "plt.show()"
   ]
  },
  {
   "cell_type": "markdown",
   "id": "62bfb5d1",
   "metadata": {},
   "source": [
    "Each classifier performed better on task2 than task3 and get a higher AUC. I guess the reason is that the number of stars is a good indicator of the evaluator's emotion, and the content of the text basically reflects the number of stars; however, it is difficult to deduce whether the evaluation is useful or not based on the content of the text. The usefulness data is highly dependent on the recommendation system of the page, computers do not know what reviews are useful, so useful reviews are not necessarily recommended and will not necessarily be seen by others. And many users do not necessarily click on the \"helpful\" button on the page after viewing the comments, so this makes the predictions less accurate.\n",
    "\n",
    "So in task3, I was able to find that some of my classifiers made a lot of type I errors. And task3's accuracy and f1-score are not as high as task2."
   ]
  },
  {
   "cell_type": "markdown",
   "id": "a50540c5",
   "metadata": {},
   "source": [
    "## Conclusion"
   ]
  },
  {
   "cell_type": "markdown",
   "id": "8b9f6ce2",
   "metadata": {},
   "source": [
    "I used four different classifiers to classify and evaluate the text information for this task: SVM classifier, Naive Bayes classifier, Logistic Regression classifier, and LSTM classifier. In terms of classification results, the SVM classifier was the best classifier for this problem, with a fast classification speed and high classification accuracy.  "
   ]
  }
 ],
 "metadata": {
  "kernelspec": {
   "display_name": "Python 3 (ipykernel)",
   "language": "python",
   "name": "python3"
  },
  "language_info": {
   "codemirror_mode": {
    "name": "ipython",
    "version": 3
   },
   "file_extension": ".py",
   "mimetype": "text/x-python",
   "name": "python",
   "nbconvert_exporter": "python",
   "pygments_lexer": "ipython3",
   "version": "3.9.7"
  }
 },
 "nbformat": 4,
 "nbformat_minor": 5
}
